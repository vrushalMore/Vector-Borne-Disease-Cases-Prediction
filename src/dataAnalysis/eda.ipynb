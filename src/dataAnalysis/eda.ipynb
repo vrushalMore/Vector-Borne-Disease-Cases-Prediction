{
 "cells": [
  {
   "cell_type": "markdown",
   "metadata": {},
   "source": [
    "## Parameters of dataset"
   ]
  },
  {
   "cell_type": "markdown",
   "metadata": {},
   "source": [
    "| Column Name          | Description |\n",
    "|----------------------|------------------------------------------------------------------|\n",
    "| **Date** (YYYY-MM-DD) | The specific day for which data is recorded. Data spans from 2018 to 2022. |\n",
    "| **Malaria_Cases** (count) | Number of reported malaria cases per day. Dependent on rainfall, humidity, population density, and vaccinations. |\n",
    "| **Chikungunya_Cases** (count) | Number of reported chikungunya cases per day. Correlated with humidity, temperature, and population density. |\n",
    "| **Dengue_Cases** (count) | Number of reported dengue cases per day. Influenced by rainfall, humidity, and temperature. |\n",
    "| **Avg_Temperature** (°C) | The average daily temperature (in Celsius). Higher temperatures can influence mosquito activity and disease transmission. |\n",
    "| **Rainfall** (mm) | Amount of rainfall recorded in millimeters per day. Heavy rainfall creates breeding grounds for mosquitoes, affecting disease spread. |\n",
    "| **Humidity** (%) | The average daily humidity percentage. Higher humidity levels are favorable for mosquito survival and disease transmission. |\n",
    "| **Population_Density** (people/km²) | Number of people per square kilometer in the recorded region. Denser populations generally experience higher disease transmission rates. |\n",
    "| **Day_Length** (hours) | The duration of daylight in hours for each day. Indirectly affects temperature and humidity. |\n",
    "| **Vaccinations_Given** (count) | The number of vaccinations administered on a given day. A higher count is expected to reduce the number of disease cases over time. |\n"
   ]
  }
 ],
 "metadata": {
  "language_info": {
   "name": "python"
  }
 },
 "nbformat": 4,
 "nbformat_minor": 2
}
